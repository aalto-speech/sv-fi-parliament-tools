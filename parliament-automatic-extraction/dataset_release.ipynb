{
 "cells": [
  {
   "cell_type": "code",
   "execution_count": 32,
   "metadata": {},
   "outputs": [],
   "source": [
    "import os\n",
    "import pandas as pd"
   ]
  },
  {
   "cell_type": "code",
   "execution_count": 7,
   "metadata": {},
   "outputs": [],
   "source": [
    "release_data=''"
   ]
  },
  {
   "cell_type": "code",
   "execution_count": 11,
   "metadata": {},
   "outputs": [],
   "source": [
    "def get_utts(data_folder):\n",
    "    utts = {}\n",
    "    files = {}\n",
    "    with open(os.path.join(data_folder, 'text')) as f:\n",
    "        for line in f.readlines():\n",
    "            utt = {}\n",
    "            parts = line.strip().split()\n",
    "            utt_id = parts[0]\n",
    "            text = ' '.join(parts[1:])\n",
    "            utts[utt_id] = {\n",
    "                'text': text\n",
    "            }\n",
    "    with open(os.path.join(data_folder, 'utt2spk')) as f:\n",
    "        for line in f.readlines():\n",
    "            parts = line.strip().split()\n",
    "            utt_id = parts[0]\n",
    "            spk_id = parts[1]\n",
    "            utts[utt_id]['spk_id'] = spk_id\n",
    "    with open(os.path.join(data_folder, 'wav.scp')) as f:\n",
    "        for line in f.readlines():\n",
    "            parts = line.strip().split()\n",
    "            file_id = parts[0]\n",
    "            path = parts[1]\n",
    "            files[file_id] = path\n",
    "    with open(os.path.join(data_folder, 'segments')) as f:\n",
    "        for line in f.readlines():\n",
    "            parts = line.strip().split()\n",
    "            utt_id = parts[0]\n",
    "            file_id = parts[1]\n",
    "            start = parts[2]\n",
    "            end = parts[3]\n",
    "            utts[utt_id]['file_id'] = file_id\n",
    "            utts[utt_id]['start'] = start\n",
    "            utts[utt_id]['end'] = end\n",
    "    return utts, files"
   ]
  },
  {
   "cell_type": "code",
   "execution_count": 12,
   "metadata": {},
   "outputs": [],
   "source": [
    "release_utts, release_files = get_utts(release_data)"
   ]
  },
  {
   "cell_type": "code",
   "execution_count": 56,
   "metadata": {},
   "outputs": [],
   "source": [
    "# create folder structure\n",
    "release_folder = ''\n",
    "\n",
    "def create_sox_script(utt, files, output):\n",
    "    duration = str(float(utt['end']) - float(utt['start']))\n",
    "    return 'sox {inp} {out} trim {start} {duration}\\n'.format(inp=files[utt['file_id']], out=output, start=utt['start'], duration=duration)\n",
    "\n",
    "def filter_unk_tokens(text):\n",
    "    return ' '.join([word for word in text.split() if not word == '<UNK>'])\n",
    "\n",
    "def write_release_files(release_utts, release_files):\n",
    "    sox_script_lines = []\n",
    "    speakers = set()\n",
    "    \n",
    "    if not os.path.exists(release_folder):\n",
    "        os.mkdir(release_folder)\n",
    "    \n",
    "    word_tokens = 0\n",
    "    \n",
    "    for utt_id in release_utts.keys():\n",
    "        utt = release_utts[utt_id]\n",
    "        output_folder = os.path.join(release_folder, utt['file_id'])\n",
    "        transcription_file = os.path.join(output_folder, '{utt_id}.trn'.format(utt_id=utt_id))\n",
    "        audio_file = os.path.join(output_folder, '{utt_id}.wav'.format(utt_id=utt_id))\n",
    "        if not os.path.exists(output_folder):\n",
    "            os.mkdir(output_folder)\n",
    "        with open(transcription_file, 'w') as f:\n",
    "            f.write(filter_unk_tokens(utt['text']))\n",
    "            word_tokens += len(filter_unk_tokens(utt['text']))\n",
    "        sox_script_lines.append(create_sox_script(utt, release_files, audio_file))\n",
    "        speakers.add(utt['spk_id'])\n",
    "    with open('fin_parliament_sox.sh', 'w') as f:\n",
    "        for line in sox_script_lines:\n",
    "            f.write(line)\n",
    "    with open('fin_parliament_speakers', 'w') as f:\n",
    "        for spk in sorted(list(speakers)):\n",
    "            f.write(spk+'\\n')\n",
    "    print(word_tokens)\n",
    "    \n",
    "    \n",
    "        "
   ]
  },
  {
   "cell_type": "code",
   "execution_count": 57,
   "metadata": {},
   "outputs": [
    {
     "name": "stdout",
     "output_type": "stream",
     "text": [
      "333483\n"
     ]
    }
   ],
   "source": [
    "write_release_files(release_utts, release_files)"
   ]
  },
  {
   "cell_type": "code",
   "execution_count": 31,
   "metadata": {},
   "outputs": [],
   "source": []
  },
  {
   "cell_type": "code",
   "execution_count": 53,
   "metadata": {},
   "outputs": [],
   "source": [
    "def create_speaker_id_mapping():\n",
    "    spk_file = open('fin_parliament_speakers')\n",
    "    spkrs = [int(line.strip()) for line in spk_file.readlines()]\n",
    "    spk_file.close()\n",
    "    df = pd.read_csv('output/01/parliament_sv-fi_approximated.csv')\n",
    "    print(df.mp_id.astype(int))\n",
    "    \n",
    "    mp_id_to_name = {}\n",
    "    for i, row in df.iterrows():\n",
    "        if not int(row.mp_id) in mp_id_to_name:\n",
    "            mp_id_to_name[int(row.mp_id)] = ' '.join([row.firstname, row.lastname])\n",
    "    \n",
    "    with open('speaker_id_mapping.csv', 'w') as f:\n",
    "        f.write('Speaker ID, Name\\n')\n",
    "        for spk_id in spkrs:\n",
    "            f.write('{spk_id}, {name}\\n'.format(spk_id=spk_id, name=mp_id_to_name[spk_id]))\n",
    "        \n",
    "    \n",
    "    "
   ]
  },
  {
   "cell_type": "code",
   "execution_count": 54,
   "metadata": {},
   "outputs": [
    {
     "name": "stdout",
     "output_type": "stream",
     "text": [
      "0       351\n",
      "1       941\n",
      "2      1345\n",
      "3       769\n",
      "4       923\n",
      "       ... \n",
      "655    1345\n",
      "656     943\n",
      "657    1116\n",
      "658     910\n",
      "659     910\n",
      "Name: mp_id, Length: 660, dtype: int64\n"
     ]
    }
   ],
   "source": [
    "create_speaker_id_mapping()"
   ]
  },
  {
   "cell_type": "code",
   "execution_count": 55,
   "metadata": {},
   "outputs": [
    {
     "data": {
      "text/plain": [
       "3889"
      ]
     },
     "execution_count": 55,
     "metadata": {},
     "output_type": "execute_result"
    }
   ],
   "source": [
    "len(release_utts)"
   ]
  },
  {
   "cell_type": "code",
   "execution_count": null,
   "metadata": {},
   "outputs": [],
   "source": []
  }
 ],
 "metadata": {
  "kernelspec": {
   "display_name": "Python 3/anaconda",
   "language": "python",
   "name": "python3"
  },
  "language_info": {
   "codemirror_mode": {
    "name": "ipython",
    "version": 3
   },
   "file_extension": ".py",
   "mimetype": "text/x-python",
   "name": "python",
   "nbconvert_exporter": "python",
   "pygments_lexer": "ipython3",
   "version": "3.8.5"
  }
 },
 "nbformat": 4,
 "nbformat_minor": 4
}
